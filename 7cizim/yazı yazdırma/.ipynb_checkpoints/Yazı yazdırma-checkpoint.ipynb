{
 "cells": [
  {
   "cell_type": "code",
   "execution_count": 4,
   "id": "be835390",
   "metadata": {},
   "outputs": [],
   "source": [
    "import cv2\n",
    "import numpy as np\n",
    "\n",
    "canvas=np.zeros((512,512,3), dtype=np.uint8)+254\n",
    "\n",
    "font1=cv2.FONT_HERSHEY_SIMPLEX\n",
    "font2=cv2.FONT_HERSHEY_COMPLEX\n",
    "font3=cv2.FONT_HERSHEY_SCRIPT_COMPLEX  #burdakiler font ve değişkenlerim HERSHEY'den aklında kalır muhtelemen.\n",
    "\n",
    "\n",
    "cv2.putText(canvas,\"OpenCV\",(100,99),font1,4,(255,0,0),cv2.LINE_AA) #en sondaki rastgele yazı tipi..\n",
    "#Burda ilk başta yazı yazacağım değişkenim ,sonra yazacağım texti,yazıyı yazacağım ilk konumu,sonra büyüklüğü ve rengi ve en son tipi,sonra 2. konum ve büyüklüğü..,sonra 3...\n",
    "\n",
    "\n",
    "\n",
    "cv2.imshow(\"Canvas\",canvas)\n",
    "cv2.waitKey(0)\n",
    "cv2.destroyAllWindows()"
   ]
  },
  {
   "cell_type": "code",
   "execution_count": null,
   "id": "2c55a9e7",
   "metadata": {},
   "outputs": [],
   "source": []
  }
 ],
 "metadata": {
  "kernelspec": {
   "display_name": "Python 3",
   "language": "python",
   "name": "python3"
  },
  "language_info": {
   "codemirror_mode": {
    "name": "ipython",
    "version": 3
   },
   "file_extension": ".py",
   "mimetype": "text/x-python",
   "name": "python",
   "nbconvert_exporter": "python",
   "pygments_lexer": "ipython3",
   "version": "3.8.8"
  }
 },
 "nbformat": 4,
 "nbformat_minor": 5
}
