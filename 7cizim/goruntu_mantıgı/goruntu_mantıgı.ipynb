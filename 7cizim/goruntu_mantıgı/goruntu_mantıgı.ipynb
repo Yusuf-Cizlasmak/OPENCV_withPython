{
 "cells": [
  {
   "cell_type": "code",
   "execution_count": 5,
   "id": "f9907e43",
   "metadata": {},
   "outputs": [],
   "source": [
    "import cv2\n",
    "import numpy as np\n",
    "\n",
    "\n",
    "\n",
    "img= np.zeros((10,10),np.uint8) #burda 10'a 10'luk bir siyah alanımı oluşturdum sonra siyah-beyazsa  3lük bir kanal oluşturmaya gerek yok.. np.uint8'de benim veri tipim\n",
    "\n",
    "img[0,0]= 255\n",
    "img[0,1]= 200   \n",
    "img[0,2]= 65\n",
    "img[0,3]= 15\n",
    "\n",
    "#img= np.zeros((10,10,3),np.uint8) #renklilerde..\n",
    "\n",
    "#img[0,0]= (255,255,255)\n",
    "#img[0,1]= (255,255,200)\n",
    "#img[0,2]= (255,255,65)\n",
    "#img[0,3]= (255,255,15)\n",
    "\n",
    "img= cv2.resize(img, (1000,1000), interpolation=cv2.INTER_AREA) #burda yeniden boyutlandırdım img'yi.interpolation birtakım çakışmaları engellemek için her resize fonksiyonunda kullanmak lazım..\n",
    "cv2.imshow(\"kanvas\",img)\n",
    "cv2.waitKey(0)\n",
    "cv2.destroyAllWindows()"
   ]
  },
  {
   "cell_type": "code",
   "execution_count": null,
   "id": "1e22caea",
   "metadata": {},
   "outputs": [],
   "source": []
  }
 ],
 "metadata": {
  "kernelspec": {
   "display_name": "Python 3",
   "language": "python",
   "name": "python3"
  },
  "language_info": {
   "codemirror_mode": {
    "name": "ipython",
    "version": 3
   },
   "file_extension": ".py",
   "mimetype": "text/x-python",
   "name": "python",
   "nbconvert_exporter": "python",
   "pygments_lexer": "ipython3",
   "version": "3.8.8"
  }
 },
 "nbformat": 4,
 "nbformat_minor": 5
}
