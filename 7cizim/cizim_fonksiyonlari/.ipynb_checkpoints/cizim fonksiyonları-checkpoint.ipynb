{
 "cells": [
  {
   "cell_type": "code",
   "execution_count": 10,
   "id": "d57b6e64",
   "metadata": {},
   "outputs": [],
   "source": [
    "import cv2\n",
    "import numpy as np\n",
    "\n",
    "canvas = np.zeros((512,512,3),dtype=np.uint8) +250 #tüm değerlere soldaki rakam ekleyince renk açılıyor.genuis mode on.\n",
    "#canvas tuval'in ingilizcesidir. #np.uint8 çizim kullandığımızda yazı tipidir.\n",
    "#np.zeros amacı da belli bir alanı siyaha bulamaktır.1-2 tuvalin boyutunu verirken,3.değişken kanalı işaret eder.\n",
    "\n",
    "cv2.imshow(\"canvas\",canvas) # ilk değişkendeki pencere değişkeni, ikincisi de değişkenimiz.\n",
    "\n",
    "cv2.waitKey(0)\n",
    "\n",
    "cv2.destroyAllWindows()\n"
   ]
  },
  {
   "cell_type": "code",
   "execution_count": 10,
   "id": "71f5ca3e",
   "metadata": {},
   "outputs": [],
   "source": [
    "import cv2\n",
    "import numpy as np\n",
    "\n",
    "\n",
    "canvas=np.zeros((512,512,3),dtype=np.uint8)+255\n",
    "\n",
    "cv2.line(canvas,(50,50),(512,512),(255,0,0),thickness=5 )\n",
    "cv2.line(canvas,(100,50),(200,250),(0,0,255),thickness=9 )\n",
    "#ilk başta resmi yapacagımız canvas'ı(tuvali) girmemiz gerekiyor. sonra başlangıç ve son değerini girilir sonra da renk ve en son kalınlık(thickness=) değeri girilir.\n",
    "\n",
    "cv2.rectangle(canvas,(20,20),(70,70),(0,255,0),thickness=6)\n",
    "#peki ya ben dikdörtgenim içini dolu yapmak istiyorsam..\n",
    "\n",
    "cv2.imshow(\"canvasinyo\",canvas)\n",
    "\n",
    "cv2.waitKey(0)\n",
    "\n",
    "cv2.destroyAllWindows()"
   ]
  },
  {
   "cell_type": "code",
   "execution_count": null,
   "id": "ac65c5ce",
   "metadata": {},
   "outputs": [],
   "source": []
  }
 ],
 "metadata": {
  "kernelspec": {
   "display_name": "Python 3",
   "language": "python",
   "name": "python3"
  },
  "language_info": {
   "codemirror_mode": {
    "name": "ipython",
    "version": 3
   },
   "file_extension": ".py",
   "mimetype": "text/x-python",
   "name": "python",
   "nbconvert_exporter": "python",
   "pygments_lexer": "ipython3",
   "version": "3.8.8"
  }
 },
 "nbformat": 4,
 "nbformat_minor": 5
}
