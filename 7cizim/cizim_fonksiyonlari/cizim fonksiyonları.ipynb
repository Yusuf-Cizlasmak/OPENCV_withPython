{
 "cells": [
  {
   "cell_type": "code",
   "execution_count": 10,
   "id": "d57b6e64",
   "metadata": {},
   "outputs": [],
   "source": [
    "import cv2\n",
    "import numpy as np\n",
    "\n",
    "canvas = np.zeros((512,512,3),dtype=np.uint8) +250 #tüm değerlere soldaki rakam ekleyince renk açılıyor.genuis mode on.\n",
    "#canvas tuval'in ingilizcesidir. #np.uint8 çizim kullandığımızda yazı tipidir.\n",
    "#np.zeros amacı da belli bir alanı siyaha bulamaktır.1-2 tuvalin boyutunu verirken,3.değişken kanalı işaret eder.\n",
    "\n",
    "cv2.imshow(\"canvas\",canvas) # ilk değişkendeki pencere değişkeni, ikincisi de değişkenimiz.\n",
    "\n",
    "cv2.waitKey(0)\n",
    "\n",
    "cv2.destroyAllWindows()\n"
   ]
  },
  {
   "cell_type": "code",
   "execution_count": 25,
   "id": "71f5ca3e",
   "metadata": {},
   "outputs": [],
   "source": [
    "import cv2\n",
    "import numpy as np\n",
    "\n",
    "\n",
    "canvas=np.zeros((512,512,3),dtype=np.uint8)+255\n",
    "\n",
    "cv2.line(canvas,(50,50),(512,512),(255,0,0),thickness=5 )\n",
    "cv2.line(canvas,(100,50),(200,250),(0,0,255),thickness=9 )\n",
    "#ilk başta resmi yapacagımız canvas'ı(tuvali) girmemiz gerekiyor. sonra başlangıç ve son değerini girilir sonra da renk ve en son kalınlık(thickness=) değeri girilir.\n",
    "\n",
    "cv2.rectangle(canvas,(20,20),(70,70),(0,255,0),thickness=-1)\n",
    "#peki ya ben dikdörtgenim içini dolu yapmak istiyorsam..thickness -1 değeri gir ve sonuca bak  :)\n",
    "cv2.rectangle(canvas,(10,10),(250,250),(0,255,255),thickness=-3)\n",
    "\n",
    "\n",
    "#şimdi de yuvarlak çizelim..ilk başta merkezin konumunu,sonra yarıçapını,rengini ve kalınlık değerlerini girmem gerekiyor.\n",
    "\n",
    "cv2.circle(canvas,(250,250),100,(0,133,0),thickness=-4)\n",
    "\n",
    "#peki ya üçgen ?? üç nokta belirle ona göre cv2.line ile birleştirme bir yöntem olabilir.\n",
    "p1=(100,200)\n",
    "p2=(50,70)\n",
    "p3=(280,65)\n",
    "\n",
    "cv2.line(canvas,p1,p2,(0,55,0),thickness=9)\n",
    "cv2.line(canvas,p1,p3,(0,55,0),thickness=9)\n",
    "cv2.line(canvas,p2,p3,(0,55,0),thickness=9)\n",
    "\n",
    "\n",
    "#peki diğer büyük şekilleri mesela beşgen gibi ifadelerinde de cv2.polylines ile kullanıyorum..\n",
    "\n",
    "cv2.imshow(\"canvasinyo\",canvas)\n",
    "\n",
    "cv2.waitKey(0)\n",
    "\n",
    "cv2.destroyAllWindows()"
   ]
  },
  {
   "cell_type": "code",
   "execution_count": null,
   "id": "27524a39",
   "metadata": {},
   "outputs": [],
   "source": []
  }
 ],
 "metadata": {
  "kernelspec": {
   "display_name": "Python 3",
   "language": "python",
   "name": "python3"
  },
  "language_info": {
   "codemirror_mode": {
    "name": "ipython",
    "version": 3
   },
   "file_extension": ".py",
   "mimetype": "text/x-python",
   "name": "python",
   "nbconvert_exporter": "python",
   "pygments_lexer": "ipython3",
   "version": "3.8.8"
  }
 },
 "nbformat": 4,
 "nbformat_minor": 5
}
