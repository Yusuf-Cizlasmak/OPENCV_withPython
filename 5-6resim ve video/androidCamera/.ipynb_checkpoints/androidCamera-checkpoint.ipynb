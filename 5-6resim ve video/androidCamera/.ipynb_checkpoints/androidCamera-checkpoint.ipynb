{
 "cells": [
  {
   "cell_type": "code",
   "execution_count": null,
   "id": "ff3605fb",
   "metadata": {},
   "outputs": [],
   "source": [
    "import cv2\n",
    "import numpy as np                         #kütüphaneler.\n",
    "import requests\n",
    "url= \"http://10.7.82.25:8080//shot.jpg\" # bunu ıp webcam olarak veriyor \n",
    "\n",
    "\n",
    "while True:\n",
    "    img_resp = requests.get(url) \n",
    "    img_arr=np.array(bytearray(img_resp.content), dtype=np.uint8) #bunlar bilmediğimiz yerler.\n",
    "    img= cv2.imdecode(img_arr,cv2.IMREAD_COLOR)#renkli görüntüyü veriyor imread color.\n",
    "    img= cv2.resize(img,(640,480))  # tekrardan boyutlandırmaya yarıyor.\n",
    "    \n",
    "    \n",
    "    cv2.imshow(\"Android Camera\",img)\n",
    "    \n",
    "    if cv2.waitKey(1) == 27: #0'ı resimler için kullanıyorduk o yüzden burda 1 kullandık \"kaç milisaniye\" fonk.\n",
    "        break\n",
    "        \n",
    "cv2.destroyAllWindows()"
   ]
  },
  {
   "cell_type": "code",
   "execution_count": null,
   "id": "ba123634",
   "metadata": {},
   "outputs": [],
   "source": []
  }
 ],
 "metadata": {
  "kernelspec": {
   "display_name": "Python 3",
   "language": "python",
   "name": "python3"
  },
  "language_info": {
   "codemirror_mode": {
    "name": "ipython",
    "version": 3
   },
   "file_extension": ".py",
   "mimetype": "text/x-python",
   "name": "python",
   "nbconvert_exporter": "python",
   "pygments_lexer": "ipython3",
   "version": "3.8.8"
  }
 },
 "nbformat": 4,
 "nbformat_minor": 5
}
