{
 "cells": [
  {
   "cell_type": "code",
   "execution_count": null,
   "metadata": {},
   "outputs": [],
   "source": [
    "import cv2\n",
    "\n",
    "cap = cv2.VideoCapture(0) # başka bir camera daha varsa 1 olarak girebilirsiniz.\n",
    "\n",
    "\n",
    "\n",
    "while True:\n",
    "    ret, frame= cap.read()\n",
    "    frame=cv2.flip(frame,1) # görüntünün eksenlerini değiştiriyor.\n",
    "    \n",
    "    cv2.imshow(\"Webcam Live\", frame)\n",
    "    if cv2.waitKey(1)& 0xFF == ord(\"q\"):   #waitkey fonksiyonu kaç milisaniye görmen gerektiğini gösterir. ve q bastığımda da kapat bir fonksiyon olşturdum\n",
    "        break\n",
    "        \n",
    "cap.release()\n",
    "cv2.destroyAllSWindows()"
   ]
  },
  {
   "cell_type": "code",
   "execution_count": null,
   "metadata": {},
   "outputs": [],
   "source": []
  }
 ],
 "metadata": {
  "kernelspec": {
   "display_name": "Python 3",
   "language": "python",
   "name": "python3"
  }
 },
 "nbformat": 4,
 "nbformat_minor": 4
}
