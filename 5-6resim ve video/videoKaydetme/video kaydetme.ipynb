{
 "cells": [
  {
   "cell_type": "code",
   "execution_count": null,
   "metadata": {},
   "outputs": [],
   "source": [
    "import cv2\n",
    "\n",
    "cap = cv2.VideoCapture(0) # başka bir camera daha varsa 1 olarak girebilirsiniz.\n",
    "fileName= \"C:/Users/yusuf/OPENCV/videoKaydetme/vizontele2.mp4\"\n",
    "codec= cv2.VideoWriter_fourcc('M','P','4','V')  #fourcc 4 değer girilmelidir.\n",
    "frameRate =30 #namına değer Fps\n",
    "resolution = (640,480) # çözünürlük\n",
    "\n",
    "videoFileOutput= cv2.VideoWriter(fileName,codec,frameRate,resolution) # codec video algoritmaları tanırlar.wh,l\n",
    "while True:\n",
    "    \n",
    "    ret, frame= cap.read()\n",
    "    frame=cv2.flip(frame,1)# görüntünün eksenlerini değiştiriyor.\n",
    "    videoFileOutput.write(frame)\n",
    "    cv2.imshow(\"Webcam Live\", frame)\n",
    "    if cv2.waitKey(1)& 0xFF == ord(\"d\"):   #waitkey fonksiyonu kaç milisaniye görmen gerektiğini gösterir. ve q bastığımda da kapat bir fonksiyon olşturdum\n",
    "        break\n",
    "    if cv2.waitKey(20) == ord('s'):\n",
    "                cv2.imwrite(\"C:/Users/yusuf/OPENCV/dosyanınadıneolsun.png\",frame)\n",
    "        \n",
    "            \n",
    "videoFileOutput.release()      \n",
    "cap.release()\n",
    "cv2.destroyAllWindows() #Rahat kapanmasını sağlar"
   ]
  },
  {
   "cell_type": "code",
   "execution_count": null,
   "metadata": {},
   "outputs": [],
   "source": []
  },
  {
   "cell_type": "code",
   "execution_count": null,
   "metadata": {},
   "outputs": [],
   "source": []
  },
  {
   "cell_type": "code",
   "execution_count": null,
   "metadata": {},
   "outputs": [],
   "source": []
  }
 ],
 "metadata": {
  "kernelspec": {
   "display_name": "Python 3",
   "language": "python",
   "name": "python3"
  },
  "language_info": {
   "codemirror_mode": {
    "name": "ipython",
    "version": 3
   },
   "file_extension": ".py",
   "mimetype": "text/x-python",
   "name": "python",
   "nbconvert_exporter": "python",
   "pygments_lexer": "ipython3",
   "version": "3.8.8"
  }
 },
 "nbformat": 4,
 "nbformat_minor": 4
}
