{
 "cells": [
  {
   "cell_type": "code",
   "execution_count": null,
   "id": "af9ce6b4",
   "metadata": {},
   "outputs": [],
   "source": [
    "import cv2\n",
    "\n",
    "def resizewithAspectRatio(img,width=None,height=None,inter=cv2.INTER_AREA):\n",
    "    dimension=None\n",
    "    (h,w)= img.shape[:2]\n",
    "    \n",
    "    \n",
    "    if width is None and height is None:\n",
    "        return img\n",
    "    \n",
    "    if width is None:\n",
    "        r = height/ float(h)\n",
    "        dimension= (int(w*r), height)   \n",
    "        \n",
    "    else:\n",
    "        r= width / float(w)\n",
    "        dimension = (width,int(h*r))\n",
    "        \n",
    "    return cv2.resize(img,dimension,interpolation= inter)\n",
    "\n",
    "img= cv2.imread(\"unnamed.png\")\n",
    "img1 =resizewithAspectRatio(img,width=None,height=600,inter=cv2.INTER_AREA)\n",
    "\n",
    "cv2.imshow(\"Original\",img)\n",
    "cv2.imshow(\"Resized\",img1)\n",
    "\n",
    "\n",
    "cv2.waitKey(0)\n",
    "cv2.destroyAllWindows()"
   ]
  },
  {
   "cell_type": "code",
   "execution_count": null,
   "id": "657ff660",
   "metadata": {},
   "outputs": [],
   "source": []
  }
 ],
 "metadata": {
  "kernelspec": {
   "display_name": "Python 3",
   "language": "python",
   "name": "python3"
  },
  "language_info": {
   "codemirror_mode": {
    "name": "ipython",
    "version": 3
   },
   "file_extension": ".py",
   "mimetype": "text/x-python",
   "name": "python",
   "nbconvert_exporter": "python",
   "pygments_lexer": "ipython3",
   "version": "3.8.8"
  }
 },
 "nbformat": 4,
 "nbformat_minor": 5
}
