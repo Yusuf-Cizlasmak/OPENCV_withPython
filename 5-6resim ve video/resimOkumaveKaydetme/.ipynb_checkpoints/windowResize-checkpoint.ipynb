{
 "cells": [
  {
   "cell_type": "code",
   "execution_count": 5,
   "id": "bbba7661",
   "metadata": {},
   "outputs": [],
   "source": [
    "import cv2\n",
    "\n",
    "#cv2.namedWindow(\"unnamed\",cv2.WINDIW_NORMAL) yazsaydım eğer normal bir şekilde fotoğrafı büyütüp ve küçültebilirdim. \n",
    "img= cv2.imread(\"unnamed.png\") #resmi okuduk.\n",
    "\n",
    "\n",
    "img=cv2.resize(img,(360,720))  #gireceğim ilk parametre resmn tutulduğu değişken , ikincisi ise istediğim boyutlar.\n",
    "\n",
    "cv2.imshow(\"unnamed\" , img) #resmi gösterdik\n",
    "cv2.waitKey(0) #ekranda kaç dakika kalacağını anladık ancak 0 yazdık ya. bir ekrana basana kadar kalır.\n",
    "cv2.destroyAllWindows() #tüm pencelere zarar vermeden kapatsın."
   ]
  },
  {
   "cell_type": "code",
   "execution_count": null,
   "id": "f1ce4a54",
   "metadata": {},
   "outputs": [],
   "source": []
  }
 ],
 "metadata": {
  "kernelspec": {
   "display_name": "Python 3",
   "language": "python",
   "name": "python3"
  },
  "language_info": {
   "codemirror_mode": {
    "name": "ipython",
    "version": 3
   },
   "file_extension": ".py",
   "mimetype": "text/x-python",
   "name": "python",
   "nbconvert_exporter": "python",
   "pygments_lexer": "ipython3",
   "version": "3.8.8"
  }
 },
 "nbformat": 4,
 "nbformat_minor": 5
}
