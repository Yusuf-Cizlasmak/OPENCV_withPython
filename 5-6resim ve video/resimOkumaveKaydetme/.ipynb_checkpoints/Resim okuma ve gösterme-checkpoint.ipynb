{
 "cells": [
  {
   "cell_type": "code",
   "execution_count": 1,
   "metadata": {},
   "outputs": [],
   "source": []
  },
  {
   "cell_type": "code",
   "execution_count": 1,
   "metadata": {},
   "outputs": [
    {
     "name": "stdout",
     "output_type": "stream",
     "text": [
      "[[[ 43  49  50]\n",
      "  [ 43  49  50]\n",
      "  [ 45  51  51]\n",
      "  ...\n",
      "  [146 165 166]\n",
      "  [142 162 163]\n",
      "  [138 158 157]]\n",
      "\n",
      " [[ 41  50  50]\n",
      "  [ 42  51  51]\n",
      "  [ 43  52  52]\n",
      "  ...\n",
      "  [143 164 165]\n",
      "  [139 161 160]\n",
      "  [136 156 155]]\n",
      "\n",
      " [[ 39  49  51]\n",
      "  [ 41  50  53]\n",
      "  [ 43  52  53]\n",
      "  ...\n",
      "  [143 164 165]\n",
      "  [138 160 159]\n",
      "  [135 155 155]]\n",
      "\n",
      " ...\n",
      "\n",
      " [[ 26  25  22]\n",
      "  [ 27  26  23]\n",
      "  [ 29  28  24]\n",
      "  ...\n",
      "  [ 61  78  89]\n",
      "  [ 61  78  89]\n",
      "  [ 60  77  88]]\n",
      "\n",
      " [[ 25  25  21]\n",
      "  [ 27  26  23]\n",
      "  [ 28  27  24]\n",
      "  ...\n",
      "  [ 62  79  90]\n",
      "  [ 61  78  89]\n",
      "  [ 60  77  88]]\n",
      "\n",
      " [[ 25  25  20]\n",
      "  [ 27  26  23]\n",
      "  [ 28  27  24]\n",
      "  ...\n",
      "  [ 62  79  90]\n",
      "  [ 61  78  88]\n",
      "  [ 60  77  86]]]\n"
     ]
    }
   ],
   "source": [
    "import cv2\n",
    "\n",
    "img=cv2.imread(\"C:/Users/yusuf/Desktop/unnamed.png\") #Geneksel olarak img değişkenini kullanırız resimler için\"dikkat uzantı\"\n",
    "#cv2.imread fonksiyonuna ( resmi okuma fonk) iki argüman girmeliyim eğer gri tonda okumak istiyorsam ikinci argümanı gir.\n",
    "print(img) #bu ifade bize resmin matrisini verir. \n",
    "cv2.namedWindow(\"Image\",cv2.WINDOW_NORMAL) #buraya girilecek ilk argüman pencerenin adı,iki ise penceremin boyutlanması için \n",
    "\n",
    "cv2.imshow(\"Image\",img) #içerisine iki adet argüman alır.ilki pencere adı alır, ikincisi ise resmin uzantısını olan \"img\"\n",
    "cv2.imwrite(\"C:/Users/yusuf/Desktop/unnamed1.png\",img)\n",
    "cv2.waitKey(0) #ekranda tutulma süresi.. 0 alırsam ekrana bir tusa basana kadar orada kalır.\n",
    "cv2.destroyAllWindows()        #penceleri rahat kapatır diyelim.\n"
   ]
  },
  {
   "cell_type": "code",
   "execution_count": null,
   "metadata": {},
   "outputs": [],
   "source": []
  },
  {
   "cell_type": "code",
   "execution_count": null,
   "metadata": {},
   "outputs": [],
   "source": []
  },
  {
   "cell_type": "code",
   "execution_count": null,
   "metadata": {},
   "outputs": [],
   "source": []
  },
  {
   "cell_type": "code",
   "execution_count": null,
   "metadata": {},
   "outputs": [],
   "source": []
  },
  {
   "cell_type": "code",
   "execution_count": null,
   "metadata": {},
   "outputs": [],
   "source": [
    "\n"
   ]
  },
  {
   "cell_type": "code",
   "execution_count": null,
   "metadata": {},
   "outputs": [],
   "source": []
  },
  {
   "cell_type": "code",
   "execution_count": null,
   "metadata": {},
   "outputs": [],
   "source": []
  },
  {
   "cell_type": "code",
   "execution_count": null,
   "metadata": {},
   "outputs": [],
   "source": []
  },
  {
   "cell_type": "code",
   "execution_count": null,
   "metadata": {},
   "outputs": [],
   "source": []
  },
  {
   "cell_type": "code",
   "execution_count": null,
   "metadata": {},
   "outputs": [],
   "source": []
  },
  {
   "cell_type": "code",
   "execution_count": null,
   "metadata": {},
   "outputs": [],
   "source": []
  },
  {
   "cell_type": "code",
   "execution_count": null,
   "metadata": {},
   "outputs": [],
   "source": []
  },
  {
   "cell_type": "code",
   "execution_count": null,
   "metadata": {},
   "outputs": [],
   "source": []
  },
  {
   "cell_type": "code",
   "execution_count": null,
   "metadata": {},
   "outputs": [],
   "source": []
  },
  {
   "cell_type": "code",
   "execution_count": null,
   "metadata": {},
   "outputs": [],
   "source": []
  },
  {
   "cell_type": "code",
   "execution_count": null,
   "metadata": {},
   "outputs": [],
   "source": []
  },
  {
   "cell_type": "code",
   "execution_count": null,
   "metadata": {},
   "outputs": [],
   "source": []
  }
 ],
 "metadata": {
  "kernelspec": {
   "display_name": "Python 3",
   "language": "python",
   "name": "python3"
  },
  "language_info": {
   "codemirror_mode": {
    "name": "ipython",
    "version": 3
   },
   "file_extension": ".py",
   "mimetype": "text/x-python",
   "name": "python",
   "nbconvert_exporter": "python",
   "pygments_lexer": "ipython3",
   "version": "3.8.8"
  }
 },
 "nbformat": 4,
 "nbformat_minor": 4
}
